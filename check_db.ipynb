{
 "cells": [
  {
   "cell_type": "code",
   "execution_count": 1,
   "id": "7753adb5-1aea-486c-8de9-8236052f6983",
   "metadata": {},
   "outputs": [],
   "source": [
    "from tools.gcp.firestoremanager import FirestoreManager\n",
    "from tools.gcp.cloud_storage import ParquetHandler"
   ]
  },
  {
   "cell_type": "code",
   "execution_count": 4,
   "id": "2fa44e6d-4c68-4a18-b067-93e3eca85086",
   "metadata": {},
   "outputs": [],
   "source": [
    "storage_auth = \"json/storage.json\"\n",
    "storage_property = {\"bucket_name\":\"news_collection\", \n",
    "                       \"src_filename\":\"news_collection.parquet\", \n",
    "                       \"summary_filename\":\"summary_collection.parquet\"}\n",
    "ph = ParquetHandler(credentials_file=storage_auth, bucket_name=storage_property.get('bucket_name'))\n",
    "df_news_collection = ph.read_parquet_from_gcs(\"news_collection.parquet\")"
   ]
  },
  {
   "cell_type": "code",
   "execution_count": 6,
   "id": "b5afca3f-2ecd-4d62-a1c4-3c860186298e",
   "metadata": {},
   "outputs": [
    {
     "data": {
      "text/html": [
       "<div>\n",
       "<style scoped>\n",
       "    .dataframe tbody tr th:only-of-type {\n",
       "        vertical-align: middle;\n",
       "    }\n",
       "\n",
       "    .dataframe tbody tr th {\n",
       "        vertical-align: top;\n",
       "    }\n",
       "\n",
       "    .dataframe thead th {\n",
       "        text-align: right;\n",
       "    }\n",
       "</style>\n",
       "<table border=\"1\" class=\"dataframe\">\n",
       "  <thead>\n",
       "    <tr style=\"text-align: right;\">\n",
       "      <th></th>\n",
       "      <th>title</th>\n",
       "      <th>date</th>\n",
       "      <th>link</th>\n",
       "    </tr>\n",
       "  </thead>\n",
       "  <tbody>\n",
       "    <tr>\n",
       "      <th>3b6e72cf22ae8ba68289c20790c13d6cd35bdb5385d84a510882a5a540c26d11</th>\n",
       "      <td>좋아질 일만 남았다 vs 공급 부족 닥친다 | 한국경제</td>\n",
       "      <td>2025-04-27</td>\n",
       "      <td>https://www.hankyung.com/article/202504267227i</td>\n",
       "    </tr>\n",
       "    <tr>\n",
       "      <th>c714557cfc0af1fda0e0c422b39dc5a3acfa5917b067a1f1e02b229458a2ac54</th>\n",
       "      <td>[eng] [주한독일대사] 통일 35년 후, 독일에 남은 과제는? | 독일, 유럽,...</td>\n",
       "      <td>2025-04-27</td>\n",
       "      <td>https://www.youtube.com/watch?v=g4xwC-aYT_4</td>\n",
       "    </tr>\n",
       "    <tr>\n",
       "      <th>da5fcb7c0490c9c440d09a8185cf29272483b8410d4b51f15603bc761651a050</th>\n",
       "      <td>[eng_sub] 충격의 관세 발표로 혼란한 세계...트럼프가 꿈 꾸는 세상은? |...</td>\n",
       "      <td>2025-04-27</td>\n",
       "      <td>https://www.youtube.com/watch?v=dBxsSk9M15g</td>\n",
       "    </tr>\n",
       "    <tr>\n",
       "      <th>2a33c279c3ec3a6d295c2df3f937fd32e7ad9cf40e0005425e04eae3d99f093c</th>\n",
       "      <td>자유무역 아니었나? 미국이 관세 전쟁을 할 수 있는 이유! | 트럼프, 미국, 관세</td>\n",
       "      <td>2025-04-27</td>\n",
       "      <td>https://www.youtube.com/watch?v=G4atXqHkjWM</td>\n",
       "    </tr>\n",
       "    <tr>\n",
       "      <th>821b5b27b0747b6b45bec2cf23d27db801e66a381a87eaa8ff9d0229647cf141</th>\n",
       "      <td>[eng] 전 일본 외무대신 고노 다로가 생각하는 한미일 관계의 현재와 미래 | 한...</td>\n",
       "      <td>2025-04-27</td>\n",
       "      <td>https://www.youtube.com/watch?v=Nh-U2zHq5iQ</td>\n",
       "    </tr>\n",
       "  </tbody>\n",
       "</table>\n",
       "</div>"
      ],
      "text/plain": [
       "                                                                                                title  \\\n",
       "3b6e72cf22ae8ba68289c20790c13d6cd35bdb5385d84a5...                     좋아질 일만 남았다 vs 공급 부족 닥친다 | 한국경제   \n",
       "c714557cfc0af1fda0e0c422b39dc5a3acfa5917b067a1f...  [eng] [주한독일대사] 통일 35년 후, 독일에 남은 과제는? | 독일, 유럽,...   \n",
       "da5fcb7c0490c9c440d09a8185cf29272483b8410d4b51f...  [eng_sub] 충격의 관세 발표로 혼란한 세계...트럼프가 꿈 꾸는 세상은? |...   \n",
       "2a33c279c3ec3a6d295c2df3f937fd32e7ad9cf40e00054...     자유무역 아니었나? 미국이 관세 전쟁을 할 수 있는 이유! | 트럼프, 미국, 관세   \n",
       "821b5b27b0747b6b45bec2cf23d27db801e66a381a87eaa...  [eng] 전 일본 외무대신 고노 다로가 생각하는 한미일 관계의 현재와 미래 | 한...   \n",
       "\n",
       "                                                          date  \\\n",
       "3b6e72cf22ae8ba68289c20790c13d6cd35bdb5385d84a5...  2025-04-27   \n",
       "c714557cfc0af1fda0e0c422b39dc5a3acfa5917b067a1f...  2025-04-27   \n",
       "da5fcb7c0490c9c440d09a8185cf29272483b8410d4b51f...  2025-04-27   \n",
       "2a33c279c3ec3a6d295c2df3f937fd32e7ad9cf40e00054...  2025-04-27   \n",
       "821b5b27b0747b6b45bec2cf23d27db801e66a381a87eaa...  2025-04-27   \n",
       "\n",
       "                                                                                              link  \n",
       "3b6e72cf22ae8ba68289c20790c13d6cd35bdb5385d84a5...  https://www.hankyung.com/article/202504267227i  \n",
       "c714557cfc0af1fda0e0c422b39dc5a3acfa5917b067a1f...     https://www.youtube.com/watch?v=g4xwC-aYT_4  \n",
       "da5fcb7c0490c9c440d09a8185cf29272483b8410d4b51f...     https://www.youtube.com/watch?v=dBxsSk9M15g  \n",
       "2a33c279c3ec3a6d295c2df3f937fd32e7ad9cf40e00054...     https://www.youtube.com/watch?v=G4atXqHkjWM  \n",
       "821b5b27b0747b6b45bec2cf23d27db801e66a381a87eaa...     https://www.youtube.com/watch?v=Nh-U2zHq5iQ  "
      ]
     },
     "execution_count": 6,
     "metadata": {},
     "output_type": "execute_result"
    }
   ],
   "source": [
    "df_news_collection.sort_values(by='date', ascending=False).head()"
   ]
  },
  {
   "cell_type": "code",
   "execution_count": null,
   "id": "697cf3ea-9625-4a81-8f54-142edb6bf97c",
   "metadata": {},
   "outputs": [],
   "source": []
  },
  {
   "cell_type": "code",
   "execution_count": null,
   "id": "844bdb79-4400-4a56-9fec-10fbd0289d41",
   "metadata": {},
   "outputs": [],
   "source": []
  },
  {
   "cell_type": "code",
   "execution_count": null,
   "id": "6912c02f-1c7d-4ab1-96ff-c431941f1646",
   "metadata": {},
   "outputs": [],
   "source": [
    "import pytz\n",
    "pytz.timezone('Asia/Dubai')\n",
    "pytz.timezone('America/New_York')"
   ]
  },
  {
   "cell_type": "code",
   "execution_count": null,
   "id": "ac475b47-1228-492c-95a4-ddb2057ce2ca",
   "metadata": {},
   "outputs": [],
   "source": [
    "pytz.timezone('Asia/Dubai')"
   ]
  },
  {
   "cell_type": "code",
   "execution_count": null,
   "id": "fb5f2237-2e87-4d7e-a851-7356efa1b5af",
   "metadata": {},
   "outputs": [],
   "source": [
    "storage_auth = \"json/storage.json\"\n",
    "storage_property = {\"bucket_name\":\"news_collection\", \n",
    "                       \"src_filename\":\"news_collection.parquet\", \n",
    "                       \"summary_filename\":\"summary_collection.parquet\"}\n",
    "ph = ParquetHandler(credentials_file=storage_auth, bucket_name=storage_property.get('bucket_name'))\n",
    "df_ph = ph.read_parquet_from_gcs(\"news_collection.parquet\")"
   ]
  },
  {
   "cell_type": "code",
   "execution_count": 4,
   "id": "d290f779-84a1-4d68-9af5-9d903b77ecfa",
   "metadata": {},
   "outputs": [],
   "source": [
    "file_auth = \"json/web-driver.json\"\n",
    "fs = FirestoreManager(file_auth)"
   ]
  },
  {
   "cell_type": "code",
   "execution_count": 38,
   "id": "6c16125f-f80e-4d00-af1a-047f7d4c38a5",
   "metadata": {},
   "outputs": [],
   "source": [
    "df_fire = fs.read_data(collection_name='news_collection')"
   ]
  },
  {
   "cell_type": "code",
   "execution_count": 58,
   "id": "33afd914-bcb4-4a52-a81f-46526656d2ec",
   "metadata": {},
   "outputs": [
    {
     "data": {
      "text/plain": [
       "15849"
      ]
     },
     "execution_count": 58,
     "metadata": {},
     "output_type": "execute_result"
    }
   ],
   "source": [
    "len(df_ph.index)"
   ]
  },
  {
   "cell_type": "code",
   "execution_count": 41,
   "id": "4cd1149b-da82-47e9-b2e3-b9d77ae4c275",
   "metadata": {},
   "outputs": [
    {
     "data": {
      "text/plain": [
       "15849"
      ]
     },
     "execution_count": 41,
     "metadata": {},
     "output_type": "execute_result"
    }
   ],
   "source": [
    "len(df_fire.index)"
   ]
  },
  {
   "cell_type": "code",
   "execution_count": 49,
   "id": "ae13efab-26f7-4d35-8bdc-3d14e4aae53f",
   "metadata": {},
   "outputs": [],
   "source": [
    "df_merge = pd.concat([df_fire, df_ph], axis=0)"
   ]
  },
  {
   "cell_type": "code",
   "execution_count": 50,
   "id": "d33d39af-d9eb-4f70-90ca-0610c80e7c97",
   "metadata": {},
   "outputs": [
    {
     "data": {
      "text/plain": [
       "31673"
      ]
     },
     "execution_count": 50,
     "metadata": {},
     "output_type": "execute_result"
    }
   ],
   "source": [
    "len(df_merge.index)"
   ]
  },
  {
   "cell_type": "code",
   "execution_count": 55,
   "id": "2303953f-3784-4807-9fff-3ab27098ac83",
   "metadata": {},
   "outputs": [],
   "source": [
    "df_merge= df_merge.drop_duplicates()"
   ]
  },
  {
   "cell_type": "code",
   "execution_count": 56,
   "id": "afab0cf2-528e-419f-bbd0-e405b0e6ed68",
   "metadata": {},
   "outputs": [],
   "source": [
    "ph.save_parquet_to_gcs('news_collection.parquet', df_merge)"
   ]
  },
  {
   "cell_type": "code",
   "execution_count": 33,
   "id": "47193ec5-16ae-4fae-a4bc-383f818de4c2",
   "metadata": {},
   "outputs": [
    {
     "data": {
      "text/plain": [
       "15849"
      ]
     },
     "execution_count": 33,
     "metadata": {},
     "output_type": "execute_result"
    }
   ],
   "source": [
    "len(df11)"
   ]
  },
  {
   "cell_type": "code",
   "execution_count": 35,
   "id": "8f2718dd-e8d5-455a-bc24-12728e26b30c",
   "metadata": {},
   "outputs": [
    {
     "data": {
      "text/plain": [
       "31673"
      ]
     },
     "execution_count": 35,
     "metadata": {},
     "output_type": "execute_result"
    }
   ],
   "source": [
    "len(df2.index)"
   ]
  },
  {
   "cell_type": "code",
   "execution_count": 23,
   "id": "abeb5bf4-2850-45f3-87d6-71caf79eb19f",
   "metadata": {},
   "outputs": [
    {
     "data": {
      "text/plain": [
       "{'0947ad0133a492a8737f58e414835e05cfd500cbeaa65b9cd63e71aeca4c16b0',\n",
       " '16a0d5b96271420ed4c121e52badef77a636db9338c0a4b68cb753133a4b286c',\n",
       " '28e2c6e873b1d0a487e40d198a3c22e6b4122d71ec90c998f5ea4c38113dc240',\n",
       " '299b7d5b38b22f80d284ce5d2c3dc332b6159e762740b59014389d5131b2f8b0',\n",
       " '35490ba6a51929bcb73ec9d9eecb50e7822236a3c1431191616f6a58cc0ad3a2',\n",
       " '3c99edc2dadbb45325b26c258535cdb76b6b9b71e2fc21f6d5d89241102d43d5',\n",
       " '3f1ab45969d9b1e1cb1790473373ef4773c0e663999eeeb5af96079f048c736e',\n",
       " '55a104c012398d0d172d44d8804184aa0dd366d3b26aa5b189527cb26a29203a',\n",
       " '55b53829d7947070127aa19921aeba793a50b8b19aa52a13c56c415c7b3bd43c',\n",
       " '587a74f3ada64efa65bbe9ff35171778f9fbdc34de1deb9aed1a93f824f22b0a',\n",
       " '66cb79f5c75a899c958c1f390fa653ad452d58388e53e6ffb03ea1c67c39c693',\n",
       " '6b11212e4a78777c160f20b55e4c8637d679f362e689b01a8f97e7bb9c1d8784',\n",
       " '730cb2ca2fc782daa9dfa98b7c95984c537521db3bc54c90ae455eb550be78ec',\n",
       " '77f67c5423413c5280da4de3bd4bd1cf31a97257743bf489ca148ced73bfa810',\n",
       " '8cb0c1314ea665d039dfbba64f00b233eea27256dffd5b785d3e8ab1b7c72b0f',\n",
       " '9ce8b8a79c32150641658f91f37905fb91513477dc1beeae2256a94fc03556fc',\n",
       " 'b1cd191bbac76ae5034aee991f41251d98bab3ac4905b85befa099034a3301bb',\n",
       " 'ba93f6572a6922638a24737aac08ccfd2df9653ccd4ef4ec696f3badb8cdc5cd',\n",
       " 'cfc49fb1c93bb2ec0076dcd5751e155ef505cfd33f9b9f163205ab2adb20a490',\n",
       " 'd9b3251ab23a1ab3ba416210756f6d8e6b8107d1bb43c590163e7d1fb5780728',\n",
       " 'dc3b4e1fc2d759e61dc16566ea7a3df0c212f6cf821555aa60463b0e499950e6',\n",
       " 'e7b54cfe37d2f2ea79b14d3e50531f5c47dd0da836305adeb0c23c9b37160a34',\n",
       " 'e819ba77a54de30c4c7208d99fd279c774bf7b3d53b6613aaad2783f349c5826',\n",
       " 'f4a7c890e44873123a57065ddcd61e620890c327f819dcbcae2269b3c8c59d09',\n",
       " 'fa76231f4540ba1475174ee3c0405dfaed7a36feef37a394afe8c50f3cf953d9'}"
      ]
     },
     "execution_count": 23,
     "metadata": {},
     "output_type": "execute_result"
    }
   ],
   "source": [
    "set(df1.index) - set(df.index)"
   ]
  },
  {
   "cell_type": "code",
   "execution_count": 26,
   "id": "26254e0d-1b96-4c37-a77a-2c91c377bdc9",
   "metadata": {},
   "outputs": [
    {
     "data": {
      "text/html": [
       "<div>\n",
       "<style scoped>\n",
       "    .dataframe tbody tr th:only-of-type {\n",
       "        vertical-align: middle;\n",
       "    }\n",
       "\n",
       "    .dataframe tbody tr th {\n",
       "        vertical-align: top;\n",
       "    }\n",
       "\n",
       "    .dataframe thead th {\n",
       "        text-align: right;\n",
       "    }\n",
       "</style>\n",
       "<table border=\"1\" class=\"dataframe\">\n",
       "  <thead>\n",
       "    <tr style=\"text-align: right;\">\n",
       "      <th></th>\n",
       "      <th>date</th>\n",
       "      <th>title</th>\n",
       "      <th>link</th>\n",
       "    </tr>\n",
       "  </thead>\n",
       "  <tbody>\n",
       "    <tr>\n",
       "      <th>00137859238ee89b87a65b6d0d943f3642f76cb5ea47cc8c8ced2c51343933cb</th>\n",
       "      <td>2025-04-21</td>\n",
       "      <td>trump’s global trade war hangs over vance’s in...</td>\n",
       "      <td>https://www.bloomberg.com/news/articles/2025-0...</td>\n",
       "    </tr>\n",
       "    <tr>\n",
       "      <th>00190bbacb5d11f3b88a2146f9f9050e960d7e450dcdebdce2f4f147504d5fdd</th>\n",
       "      <td>2025-03-28</td>\n",
       "      <td>“신차 장만하려고 했는데”...700만원 넘게 오른다는 미국, 왜? - 매일경제</td>\n",
       "      <td>https://www.mk.co.kr/news/world/11276907</td>\n",
       "    </tr>\n",
       "    <tr>\n",
       "      <th>001bce2db5f9fe194c70af764b10a361044898b6d5ae14f83a58005ae0963c5a</th>\n",
       "      <td>2025-03-31</td>\n",
       "      <td>trump’s reciprocal tariffs set to start with a...</td>\n",
       "      <td>https://www.bloomberg.com/news/articles/2025-0...</td>\n",
       "    </tr>\n",
       "    <tr>\n",
       "      <th>001cea8ff8de63be9551f9760fe359d2c6f43412cd249c2a58b6d6d7797c72cc</th>\n",
       "      <td>2025-02-20</td>\n",
       "      <td>oil holds gain with focus on us stockpiles, su...</td>\n",
       "      <td>https://www.bloomberg.com/news/articles/2025-0...</td>\n",
       "    </tr>\n",
       "    <tr>\n",
       "      <th>001e35171b4dc8ecc48893fa161b885cbf1dcb00f02af30f102f8ff054a9323b</th>\n",
       "      <td>2025-02-19</td>\n",
       "      <td>venezuela postpones local vote as opposition p...</td>\n",
       "      <td>https://www.bloomberg.com/news/articles/2025-0...</td>\n",
       "    </tr>\n",
       "    <tr>\n",
       "      <th>...</th>\n",
       "      <td>...</td>\n",
       "      <td>...</td>\n",
       "      <td>...</td>\n",
       "    </tr>\n",
       "    <tr>\n",
       "      <th>42d21e5ec8e9de58c46fecba6e1bd652d9d4079630bf7e89bfa75ba824441a8a</th>\n",
       "      <td>2025-04-26</td>\n",
       "      <td>powell draws applause on independence at close...</td>\n",
       "      <td>https://www.bloomberg.com/news/articles/2025-0...</td>\n",
       "    </tr>\n",
       "    <tr>\n",
       "      <th>6b11212e4a78777c160f20b55e4c8637d679f362e689b01a8f97e7bb9c1d8784</th>\n",
       "      <td>2025-04-26</td>\n",
       "      <td>india says its troops responded to pakistan sh...</td>\n",
       "      <td>https://www.bloomberg.com/news/articles/2025-0...</td>\n",
       "    </tr>\n",
       "    <tr>\n",
       "      <th>4c388a499e1ff1361e8285a8778782e3137f8a091bec529382efae31ceda6346</th>\n",
       "      <td>2025-04-26</td>\n",
       "      <td>[김현석의 월스트리트나우-4월26일] \"좋아질 일만 남았다\" vs \"공급 부족 닥친다\"</td>\n",
       "      <td>https://www.youtube.com/watch?v=RQauW5MfUWo</td>\n",
       "    </tr>\n",
       "    <tr>\n",
       "      <th>f94c4205daffce03db33212d727a7b6f99c76d0907d31d1cc171f01c0a1ac81f</th>\n",
       "      <td>2025-04-26</td>\n",
       "      <td>Israel Has Beaten Back Its Enemies. The War Is...</td>\n",
       "      <td>https://www.wsj.com/world/middle-east/israel-h...</td>\n",
       "    </tr>\n",
       "    <tr>\n",
       "      <th>ced483498a02f3014c3ad270d791ed94bf27eb895993321a7670c289772bfd60</th>\n",
       "      <td>2025-04-26</td>\n",
       "      <td>us agents cleared for warrantless arrest of al...</td>\n",
       "      <td>https://www.bloomberg.com/news/articles/2025-0...</td>\n",
       "    </tr>\n",
       "  </tbody>\n",
       "</table>\n",
       "<p>31673 rows × 3 columns</p>\n",
       "</div>"
      ],
      "text/plain": [
       "                                                          date  \\\n",
       "00137859238ee89b87a65b6d0d943f3642f76cb5ea47cc8...  2025-04-21   \n",
       "00190bbacb5d11f3b88a2146f9f9050e960d7e450dcdebd...  2025-03-28   \n",
       "001bce2db5f9fe194c70af764b10a361044898b6d5ae14f...  2025-03-31   \n",
       "001cea8ff8de63be9551f9760fe359d2c6f43412cd249c2...  2025-02-20   \n",
       "001e35171b4dc8ecc48893fa161b885cbf1dcb00f02af30...  2025-02-19   \n",
       "...                                                        ...   \n",
       "42d21e5ec8e9de58c46fecba6e1bd652d9d4079630bf7e8...  2025-04-26   \n",
       "6b11212e4a78777c160f20b55e4c8637d679f362e689b01...  2025-04-26   \n",
       "4c388a499e1ff1361e8285a8778782e3137f8a091bec529...  2025-04-26   \n",
       "f94c4205daffce03db33212d727a7b6f99c76d0907d31d1...  2025-04-26   \n",
       "ced483498a02f3014c3ad270d791ed94bf27eb895993321...  2025-04-26   \n",
       "\n",
       "                                                                                                title  \\\n",
       "00137859238ee89b87a65b6d0d943f3642f76cb5ea47cc8...  trump’s global trade war hangs over vance’s in...   \n",
       "00190bbacb5d11f3b88a2146f9f9050e960d7e450dcdebd...       “신차 장만하려고 했는데”...700만원 넘게 오른다는 미국, 왜? - 매일경제   \n",
       "001bce2db5f9fe194c70af764b10a361044898b6d5ae14f...  trump’s reciprocal tariffs set to start with a...   \n",
       "001cea8ff8de63be9551f9760fe359d2c6f43412cd249c2...  oil holds gain with focus on us stockpiles, su...   \n",
       "001e35171b4dc8ecc48893fa161b885cbf1dcb00f02af30...  venezuela postpones local vote as opposition p...   \n",
       "...                                                                                               ...   \n",
       "42d21e5ec8e9de58c46fecba6e1bd652d9d4079630bf7e8...  powell draws applause on independence at close...   \n",
       "6b11212e4a78777c160f20b55e4c8637d679f362e689b01...  india says its troops responded to pakistan sh...   \n",
       "4c388a499e1ff1361e8285a8778782e3137f8a091bec529...   [김현석의 월스트리트나우-4월26일] \"좋아질 일만 남았다\" vs \"공급 부족 닥친다\"   \n",
       "f94c4205daffce03db33212d727a7b6f99c76d0907d31d1...  Israel Has Beaten Back Its Enemies. The War Is...   \n",
       "ced483498a02f3014c3ad270d791ed94bf27eb895993321...  us agents cleared for warrantless arrest of al...   \n",
       "\n",
       "                                                                                                 link  \n",
       "00137859238ee89b87a65b6d0d943f3642f76cb5ea47cc8...  https://www.bloomberg.com/news/articles/2025-0...  \n",
       "00190bbacb5d11f3b88a2146f9f9050e960d7e450dcdebd...           https://www.mk.co.kr/news/world/11276907  \n",
       "001bce2db5f9fe194c70af764b10a361044898b6d5ae14f...  https://www.bloomberg.com/news/articles/2025-0...  \n",
       "001cea8ff8de63be9551f9760fe359d2c6f43412cd249c2...  https://www.bloomberg.com/news/articles/2025-0...  \n",
       "001e35171b4dc8ecc48893fa161b885cbf1dcb00f02af30...  https://www.bloomberg.com/news/articles/2025-0...  \n",
       "...                                                                                               ...  \n",
       "42d21e5ec8e9de58c46fecba6e1bd652d9d4079630bf7e8...  https://www.bloomberg.com/news/articles/2025-0...  \n",
       "6b11212e4a78777c160f20b55e4c8637d679f362e689b01...  https://www.bloomberg.com/news/articles/2025-0...  \n",
       "4c388a499e1ff1361e8285a8778782e3137f8a091bec529...        https://www.youtube.com/watch?v=RQauW5MfUWo  \n",
       "f94c4205daffce03db33212d727a7b6f99c76d0907d31d1...  https://www.wsj.com/world/middle-east/israel-h...  \n",
       "ced483498a02f3014c3ad270d791ed94bf27eb895993321...  https://www.bloomberg.com/news/articles/2025-0...  \n",
       "\n",
       "[31673 rows x 3 columns]"
      ]
     },
     "execution_count": 26,
     "metadata": {},
     "output_type": "execute_result"
    }
   ],
   "source": [
    "df2"
   ]
  },
  {
   "cell_type": "code",
   "execution_count": 6,
   "id": "39e5c47e-a41d-4fcc-b9e3-1cfe1be08392",
   "metadata": {},
   "outputs": [],
   "source": []
  },
  {
   "cell_type": "code",
   "execution_count": null,
   "id": "6d5c43cb-7c90-4445-b8d3-07ac6e489a06",
   "metadata": {},
   "outputs": [],
   "source": [
    "df = ph.read_parquet_from_gcs(\"summary_collection.parquet\")"
   ]
  },
  {
   "cell_type": "code",
   "execution_count": 8,
   "id": "a2061574-22ea-490a-b462-d050bfd64566",
   "metadata": {},
   "outputs": [
    {
     "ename": "NameError",
     "evalue": "name 'ph' is not defined",
     "output_type": "error",
     "traceback": [
      "\u001b[31m---------------------------------------------------------------------------\u001b[39m",
      "\u001b[31mNameError\u001b[39m                                 Traceback (most recent call last)",
      "\u001b[36mCell\u001b[39m\u001b[36m \u001b[39m\u001b[32mIn[8]\u001b[39m\u001b[32m, line 1\u001b[39m\n\u001b[32m----> \u001b[39m\u001b[32m1\u001b[39m df = \u001b[43mph\u001b[49m.read_parquet_from_gcs(\u001b[33m\"\u001b[39m\u001b[33msummary_collection.parquet\u001b[39m\u001b[33m\"\u001b[39m)\n",
      "\u001b[31mNameError\u001b[39m: name 'ph' is not defined"
     ]
    }
   ],
   "source": []
  },
  {
   "cell_type": "code",
   "execution_count": null,
   "id": "e020bb35-86f1-455b-a2a8-d78ac4cb6c06",
   "metadata": {},
   "outputs": [],
   "source": []
  },
  {
   "cell_type": "code",
   "execution_count": null,
   "id": "f6ba1e55-f589-4f8b-9c3b-1cae7fca32f3",
   "metadata": {},
   "outputs": [],
   "source": []
  },
  {
   "cell_type": "code",
   "execution_count": null,
   "id": "283d4218-740d-42c3-8e0c-397c90d21af1",
   "metadata": {},
   "outputs": [],
   "source": []
  },
  {
   "cell_type": "code",
   "execution_count": 1,
   "id": "fc8986d9-ee1b-47aa-864b-421d1e302ad4",
   "metadata": {},
   "outputs": [],
   "source": [
    "from functions.summarizer import SUMMARIZER\n",
    "import os"
   ]
  },
  {
   "cell_type": "code",
   "execution_count": 2,
   "id": "54f48415-f847-470d-bd18-fc3b81bf23ed",
   "metadata": {},
   "outputs": [],
   "source": [
    "storage_auth = \"json/storage.json\"\n",
    "gemini_key = os.environ.get(\"gemini_key\")\n",
    "model_id = os.getenv(\"gemini_model\", \"gemini-2.0-flash\")\n",
    "storage_property:dict={\"bucket_name\":\"news_collection\", \"src_filename\":\"news_collection.parquet\", \n",
    "                                        \"summary_filename\":\"summary_collection.parquet\"}\n",
    "\n",
    "sr = SUMMARIZER(\n",
    "    gemini_key=gemini_key,\n",
    "    storage_auth=storage_auth,\n",
    "    storage_property=storage_property,\n",
    "    model_id=model_id\n",
    ")\n"
   ]
  },
  {
   "cell_type": "code",
   "execution_count": 3,
   "id": "5870afaf-fc27-4c02-b82c-45e5bd5cc90f",
   "metadata": {},
   "outputs": [],
   "source": [
    "dates = sr.get_dates()"
   ]
  },
  {
   "cell_type": "code",
   "execution_count": 4,
   "id": "8eed4c24-3384-4056-97ba-179ece3a08d5",
   "metadata": {},
   "outputs": [],
   "source": [
    "\n",
    "res = sr.get_summary(dates[-5:-1])"
   ]
  },
  {
   "cell_type": "code",
   "execution_count": 2,
   "id": "14ed028b-3d89-4cfe-8687-0b39462b1765",
   "metadata": {},
   "outputs": [],
   "source": [
    "# res"
   ]
  },
  {
   "cell_type": "code",
   "execution_count": 6,
   "id": "20ceb2ff-a41d-4017-bb53-b1e39386fadf",
   "metadata": {},
   "outputs": [],
   "source": [
    "ds = sr.storage_handler.read_parquet_from_gcs(\"summary_collection.parquet\")"
   ]
  },
  {
   "cell_type": "code",
   "execution_count": 3,
   "id": "39b11640-fa38-4795-8132-9129fa01f0b4",
   "metadata": {},
   "outputs": [],
   "source": [
    "# ds.to_dict(orient='records')"
   ]
  },
  {
   "cell_type": "code",
   "execution_count": 12,
   "id": "c84557aa-b551-498e-b9bd-58f2da48a758",
   "metadata": {},
   "outputs": [
    {
     "data": {
      "text/plain": [
       "dict_keys(['summary_original', 'summary', 'tags', 'related_link_of_articles', 'etf_list_relevant_in_USA', 'etf_list_relevant_in_Japan', 'etf_list_relevant_in_China', 'etf_list_relevant_in_Korea', 'risk_assessment', 'scenarios', 'sector_impacts', 'event_timeline_original', 'event_timeline'])"
      ]
     },
     "execution_count": 12,
     "metadata": {},
     "output_type": "execute_result"
    }
   ],
   "source": [
    "res.keys()"
   ]
  },
  {
   "cell_type": "code",
   "execution_count": 32,
   "id": "37901976-c38b-4957-ae49-f0df16db9e4a",
   "metadata": {},
   "outputs": [
    {
     "data": {
      "text/html": [
       "<div>\n",
       "<style scoped>\n",
       "    .dataframe tbody tr th:only-of-type {\n",
       "        vertical-align: middle;\n",
       "    }\n",
       "\n",
       "    .dataframe tbody tr th {\n",
       "        vertical-align: top;\n",
       "    }\n",
       "\n",
       "    .dataframe thead th {\n",
       "        text-align: right;\n",
       "    }\n",
       "</style>\n",
       "<table border=\"1\" class=\"dataframe\">\n",
       "  <thead>\n",
       "    <tr style=\"text-align: right;\">\n",
       "      <th></th>\n",
       "      <th>link</th>\n",
       "      <th>description</th>\n",
       "    </tr>\n",
       "  </thead>\n",
       "  <tbody>\n",
       "    <tr>\n",
       "      <th>0</th>\n",
       "      <td>https://www.bloomberg.com/news/articles/2025-0...</td>\n",
       "      <td>이 기사는 트럼프 행정부가 중국, 캐나다, 멕시코에 관세를 부과하여 무역 전쟁을 시...</td>\n",
       "    </tr>\n",
       "    <tr>\n",
       "      <th>1</th>\n",
       "      <td>https://www.bloomberg.com/news/articles/2025-0...</td>\n",
       "      <td>멕시코가 미국의 관세에 대해 보복 관세를 부과하겠다고 발표하면서도 협력을 촉구하는 ...</td>\n",
       "    </tr>\n",
       "    <tr>\n",
       "      <th>2</th>\n",
       "      <td>https://www.bloomberg.com/news/articles/2025-0...</td>\n",
       "      <td>EU가 미국이 상품에 관세를 부과할 경우 보복하겠다고 경고하는 내용을 담고 있습니다.</td>\n",
       "    </tr>\n",
       "    <tr>\n",
       "      <th>3</th>\n",
       "      <td>https://www.bloomberg.com/news/articles/2025-0...</td>\n",
       "      <td>일본이 트럼프 관세가 엔화에 미치는 영향을 면밀히 주시할 것이라고 밝힌 내용을 보도...</td>\n",
       "    </tr>\n",
       "    <tr>\n",
       "      <th>4</th>\n",
       "      <td>https://www.bloomberg.com/news/articles/2025-0...</td>\n",
       "      <td>대한민국 무역 협상가가 이번 주 미국을 방문하여 무역 회담을 가질 예정임을 알립니다.</td>\n",
       "    </tr>\n",
       "  </tbody>\n",
       "</table>\n",
       "</div>"
      ],
      "text/plain": [
       "                                                link  \\\n",
       "0  https://www.bloomberg.com/news/articles/2025-0...   \n",
       "1  https://www.bloomberg.com/news/articles/2025-0...   \n",
       "2  https://www.bloomberg.com/news/articles/2025-0...   \n",
       "3  https://www.bloomberg.com/news/articles/2025-0...   \n",
       "4  https://www.bloomberg.com/news/articles/2025-0...   \n",
       "\n",
       "                                         description  \n",
       "0  이 기사는 트럼프 행정부가 중국, 캐나다, 멕시코에 관세를 부과하여 무역 전쟁을 시...  \n",
       "1  멕시코가 미국의 관세에 대해 보복 관세를 부과하겠다고 발표하면서도 협력을 촉구하는 ...  \n",
       "2    EU가 미국이 상품에 관세를 부과할 경우 보복하겠다고 경고하는 내용을 담고 있습니다.  \n",
       "3  일본이 트럼프 관세가 엔화에 미치는 영향을 면밀히 주시할 것이라고 밝힌 내용을 보도...  \n",
       "4    대한민국 무역 협상가가 이번 주 미국을 방문하여 무역 회담을 가질 예정임을 알립니다.  "
      ]
     },
     "execution_count": 32,
     "metadata": {},
     "output_type": "execute_result"
    }
   ],
   "source": [
    "pd.DataFrame(res.get('related_link_of_articles'))\n",
    "\n",
    "# pd.DataFrame(data = [summary],  columns =['summary'])"
   ]
  },
  {
   "cell_type": "code",
   "execution_count": 28,
   "id": "cf8acba1-15dc-4d77-b26c-b9c3d9c5c70c",
   "metadata": {},
   "outputs": [
    {
     "data": {
      "text/html": [
       "<div>\n",
       "<style scoped>\n",
       "    .dataframe tbody tr th:only-of-type {\n",
       "        vertical-align: middle;\n",
       "    }\n",
       "\n",
       "    .dataframe tbody tr th {\n",
       "        vertical-align: top;\n",
       "    }\n",
       "\n",
       "    .dataframe thead th {\n",
       "        text-align: right;\n",
       "    }\n",
       "</style>\n",
       "<table border=\"1\" class=\"dataframe\">\n",
       "  <thead>\n",
       "    <tr style=\"text-align: right;\">\n",
       "      <th></th>\n",
       "      <th>summary</th>\n",
       "    </tr>\n",
       "  </thead>\n",
       "  <tbody>\n",
       "    <tr>\n",
       "      <th>0</th>\n",
       "      <td>Trade War</td>\n",
       "    </tr>\n",
       "    <tr>\n",
       "      <th>1</th>\n",
       "      <td>Tariffs</td>\n",
       "    </tr>\n",
       "    <tr>\n",
       "      <th>2</th>\n",
       "      <td>US-China Relations</td>\n",
       "    </tr>\n",
       "    <tr>\n",
       "      <th>3</th>\n",
       "      <td>US-Mexico Relations</td>\n",
       "    </tr>\n",
       "    <tr>\n",
       "      <th>4</th>\n",
       "      <td>US-Canada Relations</td>\n",
       "    </tr>\n",
       "    <tr>\n",
       "      <th>5</th>\n",
       "      <td>Geopolitics</td>\n",
       "    </tr>\n",
       "    <tr>\n",
       "      <th>6</th>\n",
       "      <td>Economic Policy</td>\n",
       "    </tr>\n",
       "    <tr>\n",
       "      <th>7</th>\n",
       "      <td>International Relations</td>\n",
       "    </tr>\n",
       "    <tr>\n",
       "      <th>8</th>\n",
       "      <td>Trump Administration</td>\n",
       "    </tr>\n",
       "  </tbody>\n",
       "</table>\n",
       "</div>"
      ],
      "text/plain": [
       "                   summary\n",
       "0                Trade War\n",
       "1                  Tariffs\n",
       "2       US-China Relations\n",
       "3      US-Mexico Relations\n",
       "4      US-Canada Relations\n",
       "5              Geopolitics\n",
       "6          Economic Policy\n",
       "7  International Relations\n",
       "8     Trump Administration"
      ]
     },
     "execution_count": 28,
     "metadata": {},
     "output_type": "execute_result"
    }
   ],
   "source": [
    "pd.DataFrame(data = res.get('tags'),  columns =['summary'])"
   ]
  },
  {
   "cell_type": "code",
   "execution_count": 22,
   "id": "cf051326-7d94-4013-92e3-62e915036034",
   "metadata": {},
   "outputs": [
    {
     "name": "stderr",
     "output_type": "stream",
     "text": [
      "C:\\Users\\taest\\AppData\\Local\\Temp\\ipykernel_30252\\1046350004.py:1: FutureWarning: The behavior of 'isin' with dtype=datetime64[ns] and castable values (e.g. strings) is deprecated. In a future version, these will not be considered matching by isin. Explicitly cast to the appropriate dtype before calling isin instead.\n",
      "  df_selected = sr.df[sr.df[\"date\"].isin(dates)]\n"
     ]
    }
   ],
   "source": [
    "\n",
    "df_selected = sr.df[sr.df[\"date\"].isin(dates)]\n",
    "if df_selected.empty:\n",
    "    raise ValueError(f\"{dates}에 해당하는 뉴스가 없습니다.\")\n",
    "\n",
    "headline_with_links = _create_headline_with_links(df_selected)\n",
    "# res = self.assistant.summarize_geopolitical_news(headline_with_links) \n",
    "# assert 2==1\n",
    "\n",
    "# new_df = pd.DataFrame([res]) \n",
    "# new_df['date'] = self._get_today_date()\n",
    "# self.storage_handler.upsert_parquet_to_gcs(self.filename, new_df, key_columns=None)\n",
    "\n"
   ]
  },
  {
   "cell_type": "code",
   "execution_count": 19,
   "id": "93d887bf-ee80-45c3-a2cf-cbc8aa3973c1",
   "metadata": {},
   "outputs": [
    {
     "data": {
      "text/html": [
       "<div>\n",
       "<style scoped>\n",
       "    .dataframe tbody tr th:only-of-type {\n",
       "        vertical-align: middle;\n",
       "    }\n",
       "\n",
       "    .dataframe tbody tr th {\n",
       "        vertical-align: top;\n",
       "    }\n",
       "\n",
       "    .dataframe thead th {\n",
       "        text-align: right;\n",
       "    }\n",
       "</style>\n",
       "<table border=\"1\" class=\"dataframe\">\n",
       "  <thead>\n",
       "    <tr style=\"text-align: right;\">\n",
       "      <th></th>\n",
       "      <th>date</th>\n",
       "      <th>title</th>\n",
       "      <th>link</th>\n",
       "    </tr>\n",
       "  </thead>\n",
       "  <tbody>\n",
       "    <tr>\n",
       "      <th>00137859238ee89b87a65b6d0d943f3642f76cb5ea47cc8c8ced2c51343933cb</th>\n",
       "      <td>2025-04-21</td>\n",
       "      <td>trump’s global trade war hangs over vance’s in...</td>\n",
       "      <td>https://www.bloomberg.com/news/articles/2025-0...</td>\n",
       "    </tr>\n",
       "    <tr>\n",
       "      <th>00190bbacb5d11f3b88a2146f9f9050e960d7e450dcdebdce2f4f147504d5fdd</th>\n",
       "      <td>2025-03-28</td>\n",
       "      <td>“신차 장만하려고 했는데”...700만원 넘게 오른다는 미국, 왜? - 매일경제</td>\n",
       "      <td>https://www.mk.co.kr/news/world/11276907</td>\n",
       "    </tr>\n",
       "    <tr>\n",
       "      <th>001bce2db5f9fe194c70af764b10a361044898b6d5ae14f83a58005ae0963c5a</th>\n",
       "      <td>2025-03-31</td>\n",
       "      <td>trump’s reciprocal tariffs set to start with a...</td>\n",
       "      <td>https://www.bloomberg.com/news/articles/2025-0...</td>\n",
       "    </tr>\n",
       "    <tr>\n",
       "      <th>001cea8ff8de63be9551f9760fe359d2c6f43412cd249c2a58b6d6d7797c72cc</th>\n",
       "      <td>2025-02-20</td>\n",
       "      <td>oil holds gain with focus on us stockpiles, su...</td>\n",
       "      <td>https://www.bloomberg.com/news/articles/2025-0...</td>\n",
       "    </tr>\n",
       "    <tr>\n",
       "      <th>001e35171b4dc8ecc48893fa161b885cbf1dcb00f02af30f102f8ff054a9323b</th>\n",
       "      <td>2025-02-19</td>\n",
       "      <td>venezuela postpones local vote as opposition p...</td>\n",
       "      <td>https://www.bloomberg.com/news/articles/2025-0...</td>\n",
       "    </tr>\n",
       "    <tr>\n",
       "      <th>...</th>\n",
       "      <td>...</td>\n",
       "      <td>...</td>\n",
       "      <td>...</td>\n",
       "    </tr>\n",
       "    <tr>\n",
       "      <th>fff484731dd705f42a25a86868b5ea036034131404191adb77876f7d756300e3</th>\n",
       "      <td>2025-03-05</td>\n",
       "      <td>twitter co-founder ev williams is building ano...</td>\n",
       "      <td>https://www.bloomberg.com/news/articles/2025-0...</td>\n",
       "    </tr>\n",
       "    <tr>\n",
       "      <th>fff91b6e6052f1992e61f5993a602a38eebaec7ec157c9a70f9f06edcaaefe4e</th>\n",
       "      <td>2025-03-12</td>\n",
       "      <td>musk’s unpopularity makes his robotaxi plan ev...</td>\n",
       "      <td>https://www.bloomberg.com/opinion/articles/202...</td>\n",
       "    </tr>\n",
       "    <tr>\n",
       "      <th>fffb7b15041117b024b3b05cba3d79e114d0b7394767fabe4f2cfe73c109e66a</th>\n",
       "      <td>2025-03-28</td>\n",
       "      <td>corporate america ditches green bonds as trump...</td>\n",
       "      <td>https://www.bloomberg.com/news/articles/2025-0...</td>\n",
       "    </tr>\n",
       "    <tr>\n",
       "      <th>fffdc0c56d0cdb070e70aad07cf39e96af385a1c9f7395b5e1749aeb68719558</th>\n",
       "      <td>2025-01-22</td>\n",
       "      <td>pork producer smithfield’s ipo seeks to raise ...</td>\n",
       "      <td>https://www.bloomberg.com/news/articles/2025-0...</td>\n",
       "    </tr>\n",
       "    <tr>\n",
       "      <th>ffff227c76969c0862610ffc8c92f373a5dc00f8756d0fa4fc4db9066be1df5c</th>\n",
       "      <td>2025-01-31</td>\n",
       "      <td>old mutual ceo sees silver lining for africa f...</td>\n",
       "      <td>https://www.bloomberg.com/news/articles/2025-0...</td>\n",
       "    </tr>\n",
       "  </tbody>\n",
       "</table>\n",
       "<p>15824 rows × 3 columns</p>\n",
       "</div>"
      ],
      "text/plain": [
       "                                                         date  \\\n",
       "00137859238ee89b87a65b6d0d943f3642f76cb5ea47cc8... 2025-04-21   \n",
       "00190bbacb5d11f3b88a2146f9f9050e960d7e450dcdebd... 2025-03-28   \n",
       "001bce2db5f9fe194c70af764b10a361044898b6d5ae14f... 2025-03-31   \n",
       "001cea8ff8de63be9551f9760fe359d2c6f43412cd249c2... 2025-02-20   \n",
       "001e35171b4dc8ecc48893fa161b885cbf1dcb00f02af30... 2025-02-19   \n",
       "...                                                       ...   \n",
       "fff484731dd705f42a25a86868b5ea036034131404191ad... 2025-03-05   \n",
       "fff91b6e6052f1992e61f5993a602a38eebaec7ec157c9a... 2025-03-12   \n",
       "fffb7b15041117b024b3b05cba3d79e114d0b7394767fab... 2025-03-28   \n",
       "fffdc0c56d0cdb070e70aad07cf39e96af385a1c9f7395b... 2025-01-22   \n",
       "ffff227c76969c0862610ffc8c92f373a5dc00f8756d0fa... 2025-01-31   \n",
       "\n",
       "                                                                                                title  \\\n",
       "00137859238ee89b87a65b6d0d943f3642f76cb5ea47cc8...  trump’s global trade war hangs over vance’s in...   \n",
       "00190bbacb5d11f3b88a2146f9f9050e960d7e450dcdebd...       “신차 장만하려고 했는데”...700만원 넘게 오른다는 미국, 왜? - 매일경제   \n",
       "001bce2db5f9fe194c70af764b10a361044898b6d5ae14f...  trump’s reciprocal tariffs set to start with a...   \n",
       "001cea8ff8de63be9551f9760fe359d2c6f43412cd249c2...  oil holds gain with focus on us stockpiles, su...   \n",
       "001e35171b4dc8ecc48893fa161b885cbf1dcb00f02af30...  venezuela postpones local vote as opposition p...   \n",
       "...                                                                                               ...   \n",
       "fff484731dd705f42a25a86868b5ea036034131404191ad...  twitter co-founder ev williams is building ano...   \n",
       "fff91b6e6052f1992e61f5993a602a38eebaec7ec157c9a...  musk’s unpopularity makes his robotaxi plan ev...   \n",
       "fffb7b15041117b024b3b05cba3d79e114d0b7394767fab...  corporate america ditches green bonds as trump...   \n",
       "fffdc0c56d0cdb070e70aad07cf39e96af385a1c9f7395b...  pork producer smithfield’s ipo seeks to raise ...   \n",
       "ffff227c76969c0862610ffc8c92f373a5dc00f8756d0fa...  old mutual ceo sees silver lining for africa f...   \n",
       "\n",
       "                                                                                                 link  \n",
       "00137859238ee89b87a65b6d0d943f3642f76cb5ea47cc8...  https://www.bloomberg.com/news/articles/2025-0...  \n",
       "00190bbacb5d11f3b88a2146f9f9050e960d7e450dcdebd...           https://www.mk.co.kr/news/world/11276907  \n",
       "001bce2db5f9fe194c70af764b10a361044898b6d5ae14f...  https://www.bloomberg.com/news/articles/2025-0...  \n",
       "001cea8ff8de63be9551f9760fe359d2c6f43412cd249c2...  https://www.bloomberg.com/news/articles/2025-0...  \n",
       "001e35171b4dc8ecc48893fa161b885cbf1dcb00f02af30...  https://www.bloomberg.com/news/articles/2025-0...  \n",
       "...                                                                                               ...  \n",
       "fff484731dd705f42a25a86868b5ea036034131404191ad...  https://www.bloomberg.com/news/articles/2025-0...  \n",
       "fff91b6e6052f1992e61f5993a602a38eebaec7ec157c9a...  https://www.bloomberg.com/opinion/articles/202...  \n",
       "fffb7b15041117b024b3b05cba3d79e114d0b7394767fab...  https://www.bloomberg.com/news/articles/2025-0...  \n",
       "fffdc0c56d0cdb070e70aad07cf39e96af385a1c9f7395b...  https://www.bloomberg.com/news/articles/2025-0...  \n",
       "ffff227c76969c0862610ffc8c92f373a5dc00f8756d0fa...  https://www.bloomberg.com/news/articles/2025-0...  \n",
       "\n",
       "[15824 rows x 3 columns]"
      ]
     },
     "execution_count": 19,
     "metadata": {},
     "output_type": "execute_result"
    }
   ],
   "source": [
    "df_selected"
   ]
  },
  {
   "cell_type": "code",
   "execution_count": 21,
   "id": "900d89dc-57cc-4f3e-b542-d54367a2d324",
   "metadata": {},
   "outputs": [],
   "source": [
    "def _create_headline_with_links(df) -> str:\n",
    "    headline_with_links = \"\\n\".join([\n",
    "            f\"• {row['date']} - {row['title']} - {row['link']}\"\n",
    "            for _, row in df.iterrows()\n",
    "        ])\n",
    "    return headline_with_links\n",
    "\n"
   ]
  },
  {
   "cell_type": "code",
   "execution_count": null,
   "id": "a9803abb-ad09-4ef7-9c1e-158ce2b53020",
   "metadata": {},
   "outputs": [],
   "source": []
  },
  {
   "cell_type": "code",
   "execution_count": 6,
   "id": "ac4d8b07-04f5-4c13-a1b8-481531fe5ea8",
   "metadata": {},
   "outputs": [],
   "source": [
    "credentials_file = \"json/storage.json\""
   ]
  },
  {
   "cell_type": "code",
   "execution_count": 17,
   "id": "250a2c9b-2fd3-45e0-a379-b6fcc2d707f9",
   "metadata": {},
   "outputs": [
    {
     "name": "stdout",
     "output_type": "stream",
     "text": [
      "Parquet 파일 'example.parquet'이 생성되었습니다.\n"
     ]
    }
   ],
   "source": [
    "import pandas as pd\n",
    "import pyarrow as pa\n",
    "import pyarrow.parquet as pq\n",
    "\n",
    "# 예시 데이터 생성\n",
    "data = {\n",
    "    'name': ['Alice', 'Bob', 'Charlie', 'David', \"dss\"],\n",
    "    'age': [25, 30, 35, 40, 66],\n",
    "    'city': ['New York', 'Los Angeles', 'Chicago', 'Houston', \"dd\"]\n",
    "}\n",
    "\n",
    "# pandas DataFrame으로 변환\n",
    "df = pd.DataFrame(data)\n",
    "\n",
    "# DataFrame을 PyArrow Table로 변환\n",
    "table = pa.Table.from_pandas(df)\n",
    "\n",
    "# Parquet 파일로 저장\n",
    "output_file = 'example.parquet'\n",
    "pq.write_table(table, output_file)\n",
    "\n",
    "print(f\"Parquet 파일 '{output_file}'이 생성되었습니다.\")\n"
   ]
  },
  {
   "cell_type": "code",
   "execution_count": 7,
   "id": "6f6ddaab-d15c-472e-9d9e-c76f8ebfa1f5",
   "metadata": {},
   "outputs": [],
   "source": [
    "handler = ParquetHandler(credentials_file=credentials_file, bucket_name='news_collection')"
   ]
  },
  {
   "cell_type": "code",
   "execution_count": 21,
   "id": "483f1453-139a-4296-ad3b-e345f12bcfe0",
   "metadata": {},
   "outputs": [],
   "source": [
    "handler.upsert_parquet_to_gcs('example.parquet', df, key_columns=list(df.columns))"
   ]
  },
  {
   "cell_type": "code",
   "execution_count": 22,
   "id": "fb55a79a-d817-447d-9d27-149e4d88cd55",
   "metadata": {},
   "outputs": [
    {
     "data": {
      "text/html": [
       "<div>\n",
       "<style scoped>\n",
       "    .dataframe tbody tr th:only-of-type {\n",
       "        vertical-align: middle;\n",
       "    }\n",
       "\n",
       "    .dataframe tbody tr th {\n",
       "        vertical-align: top;\n",
       "    }\n",
       "\n",
       "    .dataframe thead th {\n",
       "        text-align: right;\n",
       "    }\n",
       "</style>\n",
       "<table border=\"1\" class=\"dataframe\">\n",
       "  <thead>\n",
       "    <tr style=\"text-align: right;\">\n",
       "      <th></th>\n",
       "      <th>name</th>\n",
       "      <th>age</th>\n",
       "      <th>city</th>\n",
       "    </tr>\n",
       "  </thead>\n",
       "  <tbody>\n",
       "    <tr>\n",
       "      <th>0</th>\n",
       "      <td>Alice</td>\n",
       "      <td>25</td>\n",
       "      <td>New York</td>\n",
       "    </tr>\n",
       "    <tr>\n",
       "      <th>1</th>\n",
       "      <td>Bob</td>\n",
       "      <td>30</td>\n",
       "      <td>Los Angeles</td>\n",
       "    </tr>\n",
       "    <tr>\n",
       "      <th>2</th>\n",
       "      <td>Charlie</td>\n",
       "      <td>35</td>\n",
       "      <td>Chicago</td>\n",
       "    </tr>\n",
       "    <tr>\n",
       "      <th>3</th>\n",
       "      <td>David</td>\n",
       "      <td>40</td>\n",
       "      <td>Houston</td>\n",
       "    </tr>\n",
       "    <tr>\n",
       "      <th>4</th>\n",
       "      <td>dss</td>\n",
       "      <td>66</td>\n",
       "      <td>dd</td>\n",
       "    </tr>\n",
       "  </tbody>\n",
       "</table>\n",
       "</div>"
      ],
      "text/plain": [
       "      name  age         city\n",
       "0    Alice   25     New York\n",
       "1      Bob   30  Los Angeles\n",
       "2  Charlie   35      Chicago\n",
       "3    David   40      Houston\n",
       "4      dss   66           dd"
      ]
     },
     "execution_count": 22,
     "metadata": {},
     "output_type": "execute_result"
    }
   ],
   "source": [
    "dd = handler.read_parquet_from_gcs(output_file)\n",
    "dd"
   ]
  },
  {
   "cell_type": "code",
   "execution_count": 7,
   "id": "8fb33fa4-e26b-4e1f-9b6b-6f96bd09f4cc",
   "metadata": {},
   "outputs": [],
   "source": [
    "\n",
    "# 로컬 테스트시 credentials_file 경로 설정\n",
    "# credentials_file = os.environ.get('GOOGLE_APPLICATION_CREDENTIALS')  # 선택\n",
    "\n",
    "# ParquetHandler 인스턴스 생성\n",
    "handler = ParquetHandler(credentials_file=credentials_file, bucket_name='news_collection')\n",
    "\n",
    "input_file = 'example.parquet'\n",
    "output_file = 'output-file.parquet'  # 처리된 파일을 저장할 GCS 경로\n",
    "\n",
    "# 예시 조건\n",
    "condition = \"age > 30\"\n",
    "\n",
    "# 데이터 처리\n",
    "handler.save_parquet_to_gcs(input_file, df)\n",
    "handler.process_and_update_parquet(input_file, output_file, condition)"
   ]
  },
  {
   "cell_type": "code",
   "execution_count": 10,
   "id": "bfde7d7d-c474-4e62-a0be-ff2ea3f909c7",
   "metadata": {},
   "outputs": [
    {
     "data": {
      "text/html": [
       "<div>\n",
       "<style scoped>\n",
       "    .dataframe tbody tr th:only-of-type {\n",
       "        vertical-align: middle;\n",
       "    }\n",
       "\n",
       "    .dataframe tbody tr th {\n",
       "        vertical-align: top;\n",
       "    }\n",
       "\n",
       "    .dataframe thead th {\n",
       "        text-align: right;\n",
       "    }\n",
       "</style>\n",
       "<table border=\"1\" class=\"dataframe\">\n",
       "  <thead>\n",
       "    <tr style=\"text-align: right;\">\n",
       "      <th></th>\n",
       "      <th>name</th>\n",
       "      <th>age</th>\n",
       "      <th>city</th>\n",
       "    </tr>\n",
       "  </thead>\n",
       "  <tbody>\n",
       "    <tr>\n",
       "      <th>0</th>\n",
       "      <td>Alice</td>\n",
       "      <td>25</td>\n",
       "      <td>New York</td>\n",
       "    </tr>\n",
       "    <tr>\n",
       "      <th>1</th>\n",
       "      <td>Bob</td>\n",
       "      <td>30</td>\n",
       "      <td>Los Angeles</td>\n",
       "    </tr>\n",
       "    <tr>\n",
       "      <th>2</th>\n",
       "      <td>Charlie</td>\n",
       "      <td>35</td>\n",
       "      <td>Chicago</td>\n",
       "    </tr>\n",
       "    <tr>\n",
       "      <th>3</th>\n",
       "      <td>David</td>\n",
       "      <td>40</td>\n",
       "      <td>Houston</td>\n",
       "    </tr>\n",
       "  </tbody>\n",
       "</table>\n",
       "</div>"
      ],
      "text/plain": [
       "      name  age         city\n",
       "0    Alice   25     New York\n",
       "1      Bob   30  Los Angeles\n",
       "2  Charlie   35      Chicago\n",
       "3    David   40      Houston"
      ]
     },
     "execution_count": 10,
     "metadata": {},
     "output_type": "execute_result"
    }
   ],
   "source": [
    "dd = handler.read_parquet_from_gcs(output_file)\n",
    "dd"
   ]
  },
  {
   "cell_type": "code",
   "execution_count": 9,
   "id": "2b1189a8-78cf-4e5a-b872-48ae766c918c",
   "metadata": {},
   "outputs": [
    {
     "data": {
      "text/html": [
       "<div>\n",
       "<style scoped>\n",
       "    .dataframe tbody tr th:only-of-type {\n",
       "        vertical-align: middle;\n",
       "    }\n",
       "\n",
       "    .dataframe tbody tr th {\n",
       "        vertical-align: top;\n",
       "    }\n",
       "\n",
       "    .dataframe thead th {\n",
       "        text-align: right;\n",
       "    }\n",
       "</style>\n",
       "<table border=\"1\" class=\"dataframe\">\n",
       "  <thead>\n",
       "    <tr style=\"text-align: right;\">\n",
       "      <th></th>\n",
       "      <th>name</th>\n",
       "      <th>age</th>\n",
       "      <th>city</th>\n",
       "    </tr>\n",
       "  </thead>\n",
       "  <tbody>\n",
       "    <tr>\n",
       "      <th>0</th>\n",
       "      <td>Alice</td>\n",
       "      <td>25</td>\n",
       "      <td>New York</td>\n",
       "    </tr>\n",
       "    <tr>\n",
       "      <th>1</th>\n",
       "      <td>Bob</td>\n",
       "      <td>30</td>\n",
       "      <td>Los Angeles</td>\n",
       "    </tr>\n",
       "    <tr>\n",
       "      <th>2</th>\n",
       "      <td>Charlie</td>\n",
       "      <td>35</td>\n",
       "      <td>Chicago</td>\n",
       "    </tr>\n",
       "    <tr>\n",
       "      <th>3</th>\n",
       "      <td>David</td>\n",
       "      <td>40</td>\n",
       "      <td>Houston</td>\n",
       "    </tr>\n",
       "  </tbody>\n",
       "</table>\n",
       "</div>"
      ],
      "text/plain": [
       "      name  age         city\n",
       "0    Alice   25     New York\n",
       "1      Bob   30  Los Angeles\n",
       "2  Charlie   35      Chicago\n",
       "3    David   40      Houston"
      ]
     },
     "execution_count": 9,
     "metadata": {},
     "output_type": "execute_result"
    }
   ],
   "source": [
    "dd1 = handler.read_parquet_from_gcs(input_file)\n",
    "dd1"
   ]
  },
  {
   "cell_type": "code",
   "execution_count": 11,
   "id": "9c40a840-6463-49b2-9b07-f2b7f3ad9c4d",
   "metadata": {},
   "outputs": [],
   "source": [
    "from tools.gcp import FirestoreManager\n",
    "firestore_auth = \"json/web-driver.json\"\n",
    "firestore = FirestoreManager(firestore_auth)"
   ]
  },
  {
   "cell_type": "code",
   "execution_count": 16,
   "id": "34a4178b-d69a-46d3-a394-edf33655099b",
   "metadata": {},
   "outputs": [],
   "source": [
    "collection_name = \"news_collection\"\n",
    "df = firestore.read_data(collection_name)"
   ]
  },
  {
   "cell_type": "code",
   "execution_count": 18,
   "id": "3f6c3302-afd3-4bc7-a733-780b29dba4ae",
   "metadata": {},
   "outputs": [
    {
     "data": {
      "text/html": [
       "<div>\n",
       "<style scoped>\n",
       "    .dataframe tbody tr th:only-of-type {\n",
       "        vertical-align: middle;\n",
       "    }\n",
       "\n",
       "    .dataframe tbody tr th {\n",
       "        vertical-align: top;\n",
       "    }\n",
       "\n",
       "    .dataframe thead th {\n",
       "        text-align: right;\n",
       "    }\n",
       "</style>\n",
       "<table border=\"1\" class=\"dataframe\">\n",
       "  <thead>\n",
       "    <tr style=\"text-align: right;\">\n",
       "      <th></th>\n",
       "      <th>date</th>\n",
       "      <th>title</th>\n",
       "      <th>link</th>\n",
       "    </tr>\n",
       "  </thead>\n",
       "  <tbody>\n",
       "    <tr>\n",
       "      <th>00137859238ee89b87a65b6d0d943f3642f76cb5ea47cc8c8ced2c51343933cb</th>\n",
       "      <td>2025-04-21</td>\n",
       "      <td>trump’s global trade war hangs over vance’s in...</td>\n",
       "      <td>https://www.bloomberg.com/news/articles/2025-0...</td>\n",
       "    </tr>\n",
       "    <tr>\n",
       "      <th>00190bbacb5d11f3b88a2146f9f9050e960d7e450dcdebdce2f4f147504d5fdd</th>\n",
       "      <td>2025-03-28</td>\n",
       "      <td>“신차 장만하려고 했는데”...700만원 넘게 오른다는 미국, 왜? - 매일경제</td>\n",
       "      <td>https://www.mk.co.kr/news/world/11276907</td>\n",
       "    </tr>\n",
       "    <tr>\n",
       "      <th>001bce2db5f9fe194c70af764b10a361044898b6d5ae14f83a58005ae0963c5a</th>\n",
       "      <td>2025-03-31</td>\n",
       "      <td>trump’s reciprocal tariffs set to start with a...</td>\n",
       "      <td>https://www.bloomberg.com/news/articles/2025-0...</td>\n",
       "    </tr>\n",
       "    <tr>\n",
       "      <th>001cea8ff8de63be9551f9760fe359d2c6f43412cd249c2a58b6d6d7797c72cc</th>\n",
       "      <td>2025-02-20</td>\n",
       "      <td>oil holds gain with focus on us stockpiles, su...</td>\n",
       "      <td>https://www.bloomberg.com/news/articles/2025-0...</td>\n",
       "    </tr>\n",
       "    <tr>\n",
       "      <th>001e35171b4dc8ecc48893fa161b885cbf1dcb00f02af30f102f8ff054a9323b</th>\n",
       "      <td>2025-02-19</td>\n",
       "      <td>venezuela postpones local vote as opposition p...</td>\n",
       "      <td>https://www.bloomberg.com/news/articles/2025-0...</td>\n",
       "    </tr>\n",
       "    <tr>\n",
       "      <th>...</th>\n",
       "      <td>...</td>\n",
       "      <td>...</td>\n",
       "      <td>...</td>\n",
       "    </tr>\n",
       "    <tr>\n",
       "      <th>fff484731dd705f42a25a86868b5ea036034131404191adb77876f7d756300e3</th>\n",
       "      <td>2025-03-05</td>\n",
       "      <td>twitter co-founder ev williams is building ano...</td>\n",
       "      <td>https://www.bloomberg.com/news/articles/2025-0...</td>\n",
       "    </tr>\n",
       "    <tr>\n",
       "      <th>fff91b6e6052f1992e61f5993a602a38eebaec7ec157c9a70f9f06edcaaefe4e</th>\n",
       "      <td>2025-03-12</td>\n",
       "      <td>musk’s unpopularity makes his robotaxi plan ev...</td>\n",
       "      <td>https://www.bloomberg.com/opinion/articles/202...</td>\n",
       "    </tr>\n",
       "    <tr>\n",
       "      <th>fffb7b15041117b024b3b05cba3d79e114d0b7394767fabe4f2cfe73c109e66a</th>\n",
       "      <td>2025-03-28</td>\n",
       "      <td>corporate america ditches green bonds as trump...</td>\n",
       "      <td>https://www.bloomberg.com/news/articles/2025-0...</td>\n",
       "    </tr>\n",
       "    <tr>\n",
       "      <th>fffdc0c56d0cdb070e70aad07cf39e96af385a1c9f7395b5e1749aeb68719558</th>\n",
       "      <td>2025-01-22</td>\n",
       "      <td>pork producer smithfield’s ipo seeks to raise ...</td>\n",
       "      <td>https://www.bloomberg.com/news/articles/2025-0...</td>\n",
       "    </tr>\n",
       "    <tr>\n",
       "      <th>ffff227c76969c0862610ffc8c92f373a5dc00f8756d0fa4fc4db9066be1df5c</th>\n",
       "      <td>2025-01-31</td>\n",
       "      <td>old mutual ceo sees silver lining for africa f...</td>\n",
       "      <td>https://www.bloomberg.com/news/articles/2025-0...</td>\n",
       "    </tr>\n",
       "  </tbody>\n",
       "</table>\n",
       "<p>15824 rows × 3 columns</p>\n",
       "</div>"
      ],
      "text/plain": [
       "                                                          date  \\\n",
       "00137859238ee89b87a65b6d0d943f3642f76cb5ea47cc8...  2025-04-21   \n",
       "00190bbacb5d11f3b88a2146f9f9050e960d7e450dcdebd...  2025-03-28   \n",
       "001bce2db5f9fe194c70af764b10a361044898b6d5ae14f...  2025-03-31   \n",
       "001cea8ff8de63be9551f9760fe359d2c6f43412cd249c2...  2025-02-20   \n",
       "001e35171b4dc8ecc48893fa161b885cbf1dcb00f02af30...  2025-02-19   \n",
       "...                                                        ...   \n",
       "fff484731dd705f42a25a86868b5ea036034131404191ad...  2025-03-05   \n",
       "fff91b6e6052f1992e61f5993a602a38eebaec7ec157c9a...  2025-03-12   \n",
       "fffb7b15041117b024b3b05cba3d79e114d0b7394767fab...  2025-03-28   \n",
       "fffdc0c56d0cdb070e70aad07cf39e96af385a1c9f7395b...  2025-01-22   \n",
       "ffff227c76969c0862610ffc8c92f373a5dc00f8756d0fa...  2025-01-31   \n",
       "\n",
       "                                                                                                title  \\\n",
       "00137859238ee89b87a65b6d0d943f3642f76cb5ea47cc8...  trump’s global trade war hangs over vance’s in...   \n",
       "00190bbacb5d11f3b88a2146f9f9050e960d7e450dcdebd...       “신차 장만하려고 했는데”...700만원 넘게 오른다는 미국, 왜? - 매일경제   \n",
       "001bce2db5f9fe194c70af764b10a361044898b6d5ae14f...  trump’s reciprocal tariffs set to start with a...   \n",
       "001cea8ff8de63be9551f9760fe359d2c6f43412cd249c2...  oil holds gain with focus on us stockpiles, su...   \n",
       "001e35171b4dc8ecc48893fa161b885cbf1dcb00f02af30...  venezuela postpones local vote as opposition p...   \n",
       "...                                                                                               ...   \n",
       "fff484731dd705f42a25a86868b5ea036034131404191ad...  twitter co-founder ev williams is building ano...   \n",
       "fff91b6e6052f1992e61f5993a602a38eebaec7ec157c9a...  musk’s unpopularity makes his robotaxi plan ev...   \n",
       "fffb7b15041117b024b3b05cba3d79e114d0b7394767fab...  corporate america ditches green bonds as trump...   \n",
       "fffdc0c56d0cdb070e70aad07cf39e96af385a1c9f7395b...  pork producer smithfield’s ipo seeks to raise ...   \n",
       "ffff227c76969c0862610ffc8c92f373a5dc00f8756d0fa...  old mutual ceo sees silver lining for africa f...   \n",
       "\n",
       "                                                                                                 link  \n",
       "00137859238ee89b87a65b6d0d943f3642f76cb5ea47cc8...  https://www.bloomberg.com/news/articles/2025-0...  \n",
       "00190bbacb5d11f3b88a2146f9f9050e960d7e450dcdebd...           https://www.mk.co.kr/news/world/11276907  \n",
       "001bce2db5f9fe194c70af764b10a361044898b6d5ae14f...  https://www.bloomberg.com/news/articles/2025-0...  \n",
       "001cea8ff8de63be9551f9760fe359d2c6f43412cd249c2...  https://www.bloomberg.com/news/articles/2025-0...  \n",
       "001e35171b4dc8ecc48893fa161b885cbf1dcb00f02af30...  https://www.bloomberg.com/news/articles/2025-0...  \n",
       "...                                                                                               ...  \n",
       "fff484731dd705f42a25a86868b5ea036034131404191ad...  https://www.bloomberg.com/news/articles/2025-0...  \n",
       "fff91b6e6052f1992e61f5993a602a38eebaec7ec157c9a...  https://www.bloomberg.com/opinion/articles/202...  \n",
       "fffb7b15041117b024b3b05cba3d79e114d0b7394767fab...  https://www.bloomberg.com/news/articles/2025-0...  \n",
       "fffdc0c56d0cdb070e70aad07cf39e96af385a1c9f7395b...  https://www.bloomberg.com/news/articles/2025-0...  \n",
       "ffff227c76969c0862610ffc8c92f373a5dc00f8756d0fa...  https://www.bloomberg.com/news/articles/2025-0...  \n",
       "\n",
       "[15824 rows x 3 columns]"
      ]
     },
     "execution_count": 18,
     "metadata": {},
     "output_type": "execute_result"
    }
   ],
   "source": [
    "df"
   ]
  },
  {
   "cell_type": "code",
   "execution_count": 19,
   "id": "56761592-2f2e-427c-b741-e102d71a9e5b",
   "metadata": {},
   "outputs": [],
   "source": [
    "handler.save_parquet_to_gcs('news_collection.parquet', df)"
   ]
  },
  {
   "cell_type": "code",
   "execution_count": null,
   "id": "a90e9078-5b97-4627-9b7f-bc7cb4e3a5a4",
   "metadata": {},
   "outputs": [],
   "source": []
  }
 ],
 "metadata": {
  "kernelspec": {
   "display_name": "Python 3 (ipykernel)",
   "language": "python",
   "name": "python3"
  },
  "language_info": {
   "codemirror_mode": {
    "name": "ipython",
    "version": 3
   },
   "file_extension": ".py",
   "mimetype": "text/x-python",
   "name": "python",
   "nbconvert_exporter": "python",
   "pygments_lexer": "ipython3",
   "version": "3.11.11"
  }
 },
 "nbformat": 4,
 "nbformat_minor": 5
}
