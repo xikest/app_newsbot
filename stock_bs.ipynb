{
 "cells": [
  {
   "cell_type": "code",
   "execution_count": 1,
   "id": "5d17f37a",
   "metadata": {},
   "outputs": [],
   "source": [
    "from market.stock_bs import BalanceSheet"
   ]
  },
  {
   "cell_type": "code",
   "execution_count": 2,
   "id": "6eb68889",
   "metadata": {},
   "outputs": [],
   "source": [
    "symbol = 'sbux'"
   ]
  },
  {
   "cell_type": "code",
   "execution_count": 3,
   "id": "7625f0a1",
   "metadata": {},
   "outputs": [
    {
     "ename": "TypeError",
     "evalue": "type NoneType doesn't define __round__ method",
     "output_type": "error",
     "traceback": [
      "\u001b[1;31m---------------------------------------------------------------------------\u001b[0m",
      "\u001b[1;31mTypeError\u001b[0m                                 Traceback (most recent call last)",
      "Cell \u001b[1;32mIn[3], line 1\u001b[0m\n\u001b[1;32m----> 1\u001b[0m \u001b[43mBalanceSheet\u001b[49m\u001b[43m(\u001b[49m\u001b[43msymbol\u001b[49m\u001b[43m)\u001b[49m\u001b[38;5;241;43m.\u001b[39;49m\u001b[43mratio_incomes\u001b[49m\u001b[43m(\u001b[49m\u001b[43m)\u001b[49m\u001b[38;5;241m.\u001b[39mplot(plot_type\u001b[38;5;241m=\u001b[39m\u001b[38;5;124m'\u001b[39m\u001b[38;5;124mbar_line_pair\u001b[39m\u001b[38;5;124m'\u001b[39m, mode\u001b[38;5;241m=\u001b[39m\u001b[38;5;124m'\u001b[39m\u001b[38;5;124mshow\u001b[39m\u001b[38;5;124m'\u001b[39m)\n",
      "File \u001b[1;32m~\\Documents\\GitHub\\beta_bot\\market\\stock_bs.py:101\u001b[0m, in \u001b[0;36mBalanceSheet.ratio_incomes\u001b[1;34m(self, period)\u001b[0m\n\u001b[0;32m    100\u001b[0m \u001b[38;5;28;01mdef\u001b[39;00m \u001b[38;5;21mratio_incomes\u001b[39m(\u001b[38;5;28mself\u001b[39m, period\u001b[38;5;241m=\u001b[39m\u001b[38;5;124m'\u001b[39m\u001b[38;5;124mquarterly\u001b[39m\u001b[38;5;124m'\u001b[39m):\n\u001b[1;32m--> 101\u001b[0m     \u001b[38;5;28mself\u001b[39m\u001b[38;5;241m.\u001b[39mplot_data[\u001b[38;5;124m'\u001b[39m\u001b[38;5;124mtitle\u001b[39m\u001b[38;5;124m'\u001b[39m] \u001b[38;5;241m=\u001b[39m\u001b[38;5;124mf\u001b[39m\u001b[38;5;124m'\u001b[39m\u001b[38;5;132;01m{\u001b[39;00m\u001b[38;5;28mself\u001b[39m\u001b[38;5;241m.\u001b[39mshortName()\u001b[38;5;132;01m}\u001b[39;00m\u001b[38;5;124m<br><sup>PE(trailing): \u001b[39m\u001b[38;5;132;01m{\u001b[39;00m\u001b[38;5;28mself\u001b[39m\u001b[38;5;241m.\u001b[39mtrailingPE()\u001b[38;5;132;01m}\u001b[39;00m\u001b[38;5;124m, PE(forward): \u001b[39m\u001b[38;5;132;01m{\u001b[39;00m\u001b[38;5;28mself\u001b[39m\u001b[38;5;241m.\u001b[39mforwardPE()\u001b[38;5;132;01m}\u001b[39;00m\u001b[38;5;124m</sup><br><sup>ROE: \u001b[39m\u001b[38;5;132;01m{\u001b[39;00m\u001b[38;5;28mself\u001b[39m\u001b[38;5;241m.\u001b[39mreturnOnEquity()\u001b[38;5;132;01m}\u001b[39;00m\u001b[38;5;124m</sup><br><sup>DebtToEquity \u001b[39m\u001b[38;5;132;01m{\u001b[39;00m\u001b[38;5;28mself\u001b[39m\u001b[38;5;241m.\u001b[39mdebtToEquity()\u001b[38;5;132;01m}\u001b[39;00m\u001b[38;5;124m</sup>\u001b[39m\u001b[38;5;124m'\u001b[39m\n\u001b[0;32m    102\u001b[0m     \u001b[38;5;28mself\u001b[39m\u001b[38;5;241m.\u001b[39mplot_data[\u001b[38;5;124m'\u001b[39m\u001b[38;5;124my_title\u001b[39m\u001b[38;5;124m'\u001b[39m] \u001b[38;5;241m=\u001b[39m \u001b[38;5;124m'\u001b[39m\u001b[38;5;124m영업에서 현금 흐름 (\u001b[39m\u001b[38;5;124m%\u001b[39m\u001b[38;5;124m)\u001b[39m\u001b[38;5;124m'\u001b[39m\n\u001b[0;32m    103\u001b[0m     \u001b[38;5;28mself\u001b[39m\u001b[38;5;241m.\u001b[39mplot_data[\u001b[38;5;124m'\u001b[39m\u001b[38;5;124msecond_y_title\u001b[39m\u001b[38;5;124m'\u001b[39m] \u001b[38;5;241m=\u001b[39m \u001b[38;5;124m'\u001b[39m\u001b[38;5;124m자산에서 수익 창출 (\u001b[39m\u001b[38;5;124m%\u001b[39m\u001b[38;5;124m)\u001b[39m\u001b[38;5;124m'\u001b[39m\n",
      "File \u001b[1;32m~\\Documents\\GitHub\\beta_bot\\market\\stock_bs.py:38\u001b[0m, in \u001b[0;36mBalanceSheet.returnOnEquity\u001b[1;34m(self)\u001b[0m\n\u001b[0;32m     37\u001b[0m \u001b[38;5;28;01mdef\u001b[39;00m \u001b[38;5;21mreturnOnEquity\u001b[39m(\u001b[38;5;28mself\u001b[39m):\n\u001b[1;32m---> 38\u001b[0m     \u001b[38;5;28;01mreturn\u001b[39;00m \u001b[38;5;28;43mround\u001b[39;49m\u001b[43m(\u001b[49m\u001b[38;5;28;43mself\u001b[39;49m\u001b[38;5;241;43m.\u001b[39;49m\u001b[43m__data__\u001b[49m\u001b[38;5;241;43m.\u001b[39;49m\u001b[43minfo\u001b[49m\u001b[43m[\u001b[49m\u001b[38;5;124;43m'\u001b[39;49m\u001b[38;5;124;43mreturnOnEquity\u001b[39;49m\u001b[38;5;124;43m'\u001b[39;49m\u001b[43m]\u001b[49m\u001b[43m,\u001b[49m\u001b[38;5;241;43m1\u001b[39;49m\u001b[43m)\u001b[49m\n",
      "\u001b[1;31mTypeError\u001b[0m: type NoneType doesn't define __round__ method"
     ]
    }
   ],
   "source": [
    "BalanceSheet(symbol).ratio_incomes().plot(plot_type='bar_line_pair', mode='show')"
   ]
  },
  {
   "cell_type": "code",
   "execution_count": 4,
   "id": "8060982b",
   "metadata": {},
   "outputs": [],
   "source": [
    "bs = BalanceSheet(symbol)"
   ]
  },
  {
   "cell_type": "code",
   "execution_count": 6,
   "id": "7696f1d9",
   "metadata": {},
   "outputs": [
    {
     "data": {
      "text/plain": [
       "35.1"
      ]
     },
     "execution_count": 6,
     "metadata": {},
     "output_type": "execute_result"
    }
   ],
   "source": [
    "bs.trailingPE()"
   ]
  },
  {
   "cell_type": "code",
   "execution_count": 7,
   "id": "66a0df85",
   "metadata": {},
   "outputs": [
    {
     "data": {
      "text/plain": [
       "24.6"
      ]
     },
     "execution_count": 7,
     "metadata": {},
     "output_type": "execute_result"
    }
   ],
   "source": [
    "bs.forwardPE()"
   ]
  },
  {
   "cell_type": "code",
   "execution_count": 10,
   "id": "b2d6aa38",
   "metadata": {},
   "outputs": [
    {
     "data": {
      "text/plain": [
       "'Starbucks Corporation'"
      ]
     },
     "execution_count": 10,
     "metadata": {},
     "output_type": "execute_result"
    }
   ],
   "source": [
    "bs.shortName()"
   ]
  },
  {
   "cell_type": "code",
   "execution_count": 12,
   "id": "82ce7f59",
   "metadata": {
    "scrolled": false
   },
   "outputs": [
    {
     "data": {
      "text/plain": [
       "{'zip': '98134',\n",
       " 'sector': 'Consumer Cyclical',\n",
       " 'fullTimeEmployees': 402000,\n",
       " 'longBusinessSummary': \"Starbucks Corporation, together with its subsidiaries, operates as a roaster, marketer, and retailer of specialty coffee worldwide. The company operates through three segments: North America, International, and Channel Development. Its stores offer coffee and tea beverages, roasted whole beans and ground coffees, single serve products, and ready-to-drink beverages; and various food products, such as pastries, breakfast sandwiches, and lunch items. The company also licenses its trademarks through licensed stores, and grocery and foodservice. It offers its products under the Starbucks Coffee, Teavana, Seattle's Best Coffee, Ethos, Starbucks Reserve, and Princi brands. As of October 2, 2022, the company operated 17,295 company-operated and licensed stores in North America; and 18,416 company-operated and licensed stores internationally. Starbucks Corporation was founded in 1971 and is based in Seattle, Washington.\",\n",
       " 'city': 'Seattle',\n",
       " 'phone': '206 447 1575',\n",
       " 'state': 'WA',\n",
       " 'country': 'United States',\n",
       " 'companyOfficers': [],\n",
       " 'website': 'https://www.starbucks.com',\n",
       " 'maxAge': 1,\n",
       " 'address1': '2401 Utah Avenue South',\n",
       " 'industry': 'Restaurants',\n",
       " 'ebitdaMargins': 0.18521999,\n",
       " 'profitMargins': 0.10175,\n",
       " 'grossMargins': 0.26001,\n",
       " 'operatingCashflow': 4397300224,\n",
       " 'revenueGrowth': 0.033,\n",
       " 'operatingMargins': 0.1378,\n",
       " 'ebitda': 5973400064,\n",
       " 'targetLowPrice': 70,\n",
       " 'recommendationKey': 'buy',\n",
       " 'grossProfits': 8385400000,\n",
       " 'freeCashflow': 1806887552,\n",
       " 'targetMedianPrice': 98,\n",
       " 'currentPrice': 99.2,\n",
       " 'earningsGrowth': -0.486,\n",
       " 'currentRatio': 0.767,\n",
       " 'returnOnAssets': 0.09356,\n",
       " 'numberOfAnalystOpinions': 31,\n",
       " 'targetMeanPrice': 99.51,\n",
       " 'debtToEquity': None,\n",
       " 'returnOnEquity': None,\n",
       " 'targetHighPrice': 136,\n",
       " 'totalCash': 3182899968,\n",
       " 'totalDebt': 23850799104,\n",
       " 'totalRevenue': 32250300416,\n",
       " 'totalCashPerShare': 2.773,\n",
       " 'financialCurrency': 'USD',\n",
       " 'revenuePerShare': 27.963,\n",
       " 'quickRatio': 0.487,\n",
       " 'recommendationMean': 2.5,\n",
       " 'exchange': 'NMS',\n",
       " 'shortName': 'Starbucks Corporation',\n",
       " 'longName': 'Starbucks Corporation',\n",
       " 'exchangeTimezoneName': 'America/New_York',\n",
       " 'exchangeTimezoneShortName': 'EST',\n",
       " 'isEsgPopulated': False,\n",
       " 'gmtOffSetMilliseconds': '-18000000',\n",
       " 'quoteType': 'EQUITY',\n",
       " 'symbol': 'SBUX',\n",
       " 'messageBoardId': 'finmb_34745',\n",
       " 'market': 'us_market',\n",
       " 'annualHoldingsTurnover': None,\n",
       " 'enterpriseToRevenue': 4.172,\n",
       " 'beta3Year': None,\n",
       " 'enterpriseToEbitda': 22.523,\n",
       " '52WeekChange': -0.14981145,\n",
       " 'morningStarRiskRating': None,\n",
       " 'forwardEps': 4.03,\n",
       " 'revenueQuarterlyGrowth': None,\n",
       " 'sharesOutstanding': 1147800064,\n",
       " 'fundInceptionDate': None,\n",
       " 'annualReportExpenseRatio': None,\n",
       " 'totalAssets': None,\n",
       " 'bookValue': -7.585,\n",
       " 'sharesShort': 17808279,\n",
       " 'sharesPercentSharesOut': 0.0155,\n",
       " 'fundFamily': None,\n",
       " 'lastFiscalYearEnd': 1664668800,\n",
       " 'heldPercentInstitutions': 0.7357,\n",
       " 'netIncomeToCommon': 3281600000,\n",
       " 'trailingEps': 2.83,\n",
       " 'lastDividendValue': 0.53,\n",
       " 'SandP52WeekChange': -0.19953048,\n",
       " 'priceToBook': None,\n",
       " 'heldPercentInsiders': 0.00189,\n",
       " 'nextFiscalYearEnd': 1727827200,\n",
       " 'yield': None,\n",
       " 'mostRecentQuarter': 1664668800,\n",
       " 'shortRatio': 2.75,\n",
       " 'sharesShortPreviousMonthDate': 1668470400,\n",
       " 'floatShares': 1123810980,\n",
       " 'beta': 0.895114,\n",
       " 'enterpriseValue': 134537560064,\n",
       " 'priceHint': 2,\n",
       " 'threeYearAverageReturn': None,\n",
       " 'lastSplitDate': 1428537600,\n",
       " 'lastSplitFactor': '2:1',\n",
       " 'legalType': None,\n",
       " 'lastDividendDate': 1667952000,\n",
       " 'morningStarOverallRating': None,\n",
       " 'earningsQuarterlyGrowth': -0.502,\n",
       " 'priceToSalesTrailing12Months': 3.5305643,\n",
       " 'dateShortInterest': 1671062400,\n",
       " 'pegRatio': 1.66,\n",
       " 'ytdReturn': None,\n",
       " 'forwardPE': 24.615383,\n",
       " 'lastCapGain': None,\n",
       " 'shortPercentOfFloat': 0.0155,\n",
       " 'sharesShortPriorMonth': 15131344,\n",
       " 'impliedSharesOutstanding': 0,\n",
       " 'category': None,\n",
       " 'fiveYearAverageReturn': None,\n",
       " 'previousClose': 99.77,\n",
       " 'regularMarketOpen': 99.19,\n",
       " 'twoHundredDayAverage': 85.59315,\n",
       " 'trailingAnnualDividendYield': 0.020046107,\n",
       " 'payoutRatio': 0.6926,\n",
       " 'volume24Hr': None,\n",
       " 'regularMarketDayHigh': 99.24,\n",
       " 'navPrice': None,\n",
       " 'averageDailyVolume10Day': 5428950,\n",
       " 'regularMarketPreviousClose': 99.77,\n",
       " 'fiftyDayAverage': 96.071,\n",
       " 'trailingAnnualDividendRate': 2,\n",
       " 'open': 99.19,\n",
       " 'toCurrency': None,\n",
       " 'averageVolume10days': 5428950,\n",
       " 'expireDate': None,\n",
       " 'algorithm': None,\n",
       " 'dividendRate': 2.12,\n",
       " 'exDividendDate': 1675900800,\n",
       " 'circulatingSupply': None,\n",
       " 'startDate': None,\n",
       " 'regularMarketDayLow': 98.24,\n",
       " 'currency': 'USD',\n",
       " 'trailingPE': 35.053005,\n",
       " 'regularMarketVolume': 3857136,\n",
       " 'lastMarket': None,\n",
       " 'maxSupply': None,\n",
       " 'openInterest': None,\n",
       " 'marketCap': 113861763072,\n",
       " 'volumeAllCurrencies': None,\n",
       " 'strikePrice': None,\n",
       " 'averageVolume': 7159406,\n",
       " 'dayLow': 98.24,\n",
       " 'ask': 99.45,\n",
       " 'askSize': 1300,\n",
       " 'volume': 3857136,\n",
       " 'fiftyTwoWeekHigh': 117.8,\n",
       " 'fromCurrency': None,\n",
       " 'fiveYearAvgDividendYield': 1.92,\n",
       " 'fiftyTwoWeekLow': 68.39,\n",
       " 'bid': 99.21,\n",
       " 'tradeable': False,\n",
       " 'dividendYield': 0.0214,\n",
       " 'bidSize': 1300,\n",
       " 'dayHigh': 99.24,\n",
       " 'coinMarketCapLink': None,\n",
       " 'regularMarketPrice': 99.2,\n",
       " 'preMarketPrice': None,\n",
       " 'logo_url': 'https://logo.clearbit.com/starbucks.com',\n",
       " 'trailingPegRatio': 1.6652}"
      ]
     },
     "execution_count": 12,
     "metadata": {},
     "output_type": "execute_result"
    }
   ],
   "source": [
    "bs.__data__.info"
   ]
  },
  {
   "cell_type": "code",
   "execution_count": 14,
   "id": "45a4e83a",
   "metadata": {},
   "outputs": [
    {
     "data": {
      "text/plain": [
       "True"
      ]
     },
     "execution_count": 14,
     "metadata": {},
     "output_type": "execute_result"
    }
   ],
   "source": [
    "f = 0.111\n",
    "isinstance(f, float)"
   ]
  },
  {
   "cell_type": "code",
   "execution_count": null,
   "id": "41f0668e",
   "metadata": {},
   "outputs": [],
   "source": []
  }
 ],
 "metadata": {
  "kernelspec": {
   "display_name": "codebox38",
   "language": "python",
   "name": "codebox38"
  },
  "language_info": {
   "codemirror_mode": {
    "name": "ipython",
    "version": 3
   },
   "file_extension": ".py",
   "mimetype": "text/x-python",
   "name": "python",
   "nbconvert_exporter": "python",
   "pygments_lexer": "ipython3",
   "version": "3.8.15"
  }
 },
 "nbformat": 4,
 "nbformat_minor": 5
}
